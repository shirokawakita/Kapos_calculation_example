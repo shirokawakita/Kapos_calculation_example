{
 "cells": [
  {
   "cell_type": "markdown",
   "metadata": {},
   "source": [
    "## Kaposの局所起伏幅の計算例\n",
    "各位置（ピクセル）で半径7000m以内に300m以上の標高差があるかどうかを判定する。\n",
    "ある場合は１，ない場合は０とする。\n",
    "出力はGeotiffフォーマットとし、QIGSなどのGISソフトでも利用できることを考慮しました。\n"
   ]
  },
  {
   "cell_type": "markdown",
   "metadata": {},
   "source": [
    "### モジュールのインポート\n",
    "はじめに、今回の計算で必要なモジュールをインポートします。\n",
    "行列計算を高速で行うために、今回はpandasではなくGPUを用いるCupyを使用しました。\n",
    "私の環境（GPU:　GTX1070)　では計算時間は1/3程度になりました。"
   ]
  },
  {
   "cell_type": "code",
   "execution_count": 1,
   "metadata": {
    "id": "3aJHdeZn312-"
   },
   "outputs": [],
   "source": [
    "import numpy as np\n",
    "import matplotlib.pyplot as plt\n",
    "import pandas as pd\n",
    "\n",
    "import numpy as np\n",
    "import matplotlib.pyplot as plt\n",
    "import rasterio\n",
    "\n",
    "import json\n",
    "import os\n",
    "import glob\n",
    "\n",
    "import time\n",
    "from datetime import datetime\n",
    "from dateutil.parser import parse\n",
    "\n",
    "from tqdm import tqdm\n",
    "from PIL import Image\n",
    "import cv2\n",
    "\n",
    "import folium\n",
    "\n",
    "import json\n",
    "from osgeo import gdal, osr, gdalconst, gdal_array \n",
    "import geopandas as gpd\n",
    "\n",
    "import rasterio.mask\n",
    "\n",
    "\n",
    "import cupy as cp"
   ]
  },
  {
   "cell_type": "markdown",
   "metadata": {
    "id": "ojQCt1u0PfDz"
   },
   "source": [
    "### 標高データ（DEM)の切り出し。\n",
    "　日本全土の標高データを一度に処理することは負荷が大きいため、東北地方、九州地方の単位でデータを切り出しました。\n"
   ]
  },
  {
   "cell_type": "markdown",
   "metadata": {},
   "source": [
    "　領域の切り出しは、領域の緯度・経度情報を以下のサイトから得ることができます。\n",
    " \n",
    " 関心粋の選択（左の作成チールより四角を選択），ポリゴンを作成。その後”Show feature”をクリックしポリゴン情報を右枠に表示させ、Copyを押して情報をコピーします。"
   ]
  },
  {
   "cell_type": "code",
   "execution_count": 2,
   "metadata": {
    "colab": {
     "base_uri": "https://localhost:8080/",
     "height": 600
    },
    "id": "3Vn1xaKl4Ch1",
    "outputId": "369e27fd-0dbd-447c-8aef-0c5027145a85"
   },
   "outputs": [
    {
     "data": {
      "text/html": [
       "<iframe width=\"1000\" height=\"580\" src=\"https://gispolygon.herokuapp.com/\" frameborder=\"0\"></iframe>"
      ],
      "text/plain": [
       "<IPython.core.display.HTML object>"
      ]
     },
     "execution_count": 2,
     "metadata": {},
     "output_type": "execute_result"
    }
   ],
   "source": [
    "#関心領域のポリゴン情報の取得．\n",
    "from IPython.display import HTML\n",
    "HTML(r'<iframe width=\"1000\" height=\"580\" src=\"https://gispolygon.herokuapp.com/\" frameborder=\"0\"></iframe>')"
   ]
  },
  {
   "cell_type": "markdown",
   "metadata": {
    "id": "vgZVp8fQPjr9"
   },
   "source": [
    "右枠のポリゴン情報のすべてをコピーし，以下のAの右辺にペーストする．"
   ]
  },
  {
   "cell_type": "code",
   "execution_count": 3,
   "metadata": {
    "id": "LqPIAt1_4E9F"
   },
   "outputs": [],
   "source": [
    "A = {\"type\":\"FeatureCollection\",\"features\":[{\"properties\":{\"note\":\"\",\"distance\":\"671838.01 m\",\"drawtype\":\"rectangle\",\"area\":\"4568286.07 ha\"},\"type\":\"Feature\",\"geometry\":{\"type\":\"Polygon\",\"coordinates\":[[[139.30183410644534,41.343824581185714],[139.30183410644534,43.54058479482877],[141.57600402832034,43.54058479482877],[141.57600402832034,41.343824581185714],[139.30183410644534,41.343824581185714]]]}}]}"
   ]
  },
  {
   "cell_type": "code",
   "execution_count": 4,
   "metadata": {
    "id": "PW_F3y1R4Jyk"
   },
   "outputs": [],
   "source": [
    "#今後使用する任意のファイル名をセットする． 例えば，地域の名前など．\n",
    "object_name = 'Japan_w-hokkaido2_90m'"
   ]
  },
  {
   "cell_type": "code",
   "execution_count": 5,
   "metadata": {
    "id": "Vzg8o8u64LYF"
   },
   "outputs": [],
   "source": [
    "with open(str(object_name) +'_2.geojson', 'w') as f:\n",
    "    json.dump(A, f)"
   ]
  },
  {
   "cell_type": "code",
   "execution_count": 6,
   "metadata": {
    "id": "C69SVOG4gWd_"
   },
   "outputs": [],
   "source": [
    "json_file = open(str(object_name) +'_2.geojson')\n",
    "json_object = json.load(json_file)\n",
    "AREA = json_object[\"features\"][0][\"geometry\"]['coordinates'][0]\n",
    "area = pd.DataFrame(AREA,\n",
    "                  columns=['longtitude', 'latitude'])\n",
    "area_d =[[area['longtitude'].min(), area['latitude'].max()],\n",
    " [area['longtitude'].max(), area['latitude'].max()],\n",
    " [area['longtitude'].max(), area['latitude'].min()],\n",
    " [area['longtitude'].min(), area['latitude'].min()],\n",
    " [area['longtitude'].min(), area['latitude'].max()]]\n",
    "\n",
    "AREA = area_d"
   ]
  },
  {
   "cell_type": "markdown",
   "metadata": {},
   "source": [
    "以下を実行し、切り出した領域を確認します。間違えていた場合は、上記の関心域の作成から再度試してください。"
   ]
  },
  {
   "cell_type": "code",
   "execution_count": 7,
   "metadata": {
    "colab": {
     "base_uri": "https://localhost:8080/",
     "height": 739
    },
    "id": "ICYPn_X8gWad",
    "outputId": "fe180e0c-25fc-4d77-8eef-dbad107a1828"
   },
   "outputs": [
    {
     "data": {
      "text/html": [
       "<div style=\"width:100%;\"><div style=\"position:relative;width:100%;height:0;padding-bottom:60%;\"><span style=\"color:#565656\">Make this Notebook Trusted to load map: File -> Trust Notebook</span><iframe src=\"about:blank\" style=\"position:absolute;width:100%;height:100%;left:0;top:0;border:none !important;\" data-html=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 onload=\"this.contentDocument.open();this.contentDocument.write(atob(this.getAttribute('data-html')));this.contentDocument.close();\" allowfullscreen webkitallowfullscreen mozallowfullscreen></iframe></div></div>"
      ],
      "text/plain": [
       "<folium.folium.Map at 0x7feb42339c88>"
      ]
     },
     "execution_count": 7,
     "metadata": {},
     "output_type": "execute_result"
    }
   ],
   "source": [
    "m = folium.Map([(AREA[0][1]+AREA[2][1])/2,(AREA[0][0]+AREA[2][0])/2], zoom_start=9)\n",
    "\n",
    "folium.GeoJson(str(object_name) +'_2.geojson').add_to(m)\n",
    "m"
   ]
  },
  {
   "cell_type": "markdown",
   "metadata": {
    "id": "2TOyluYWQDsq"
   },
   "source": [
    "### DEMデータの読み込み。\n",
    "　日本全土の90m分解能のDEMデータ（SRTM)を以下のサイトからダウンロードします。\n",
    " \n",
    " 複数に分割されている場合は、QGISなどのGISソフトにて結合（merge)して一つのファイル（geotiff)にしてください。\n",
    " \n",
    " https://cgiarcsi.community/data/srtm-90m-digital-elevation-database-v4-1/\n"
   ]
  },
  {
   "cell_type": "code",
   "execution_count": 8,
   "metadata": {
    "colab": {
     "base_uri": "https://localhost:8080/"
    },
    "id": "XdbB_Ru846Ga",
    "outputId": "03421ea4-c666-4616-c935-cccae442ed5b"
   },
   "outputs": [
    {
     "data": {
      "text/plain": [
       "['dem_srtm_japan.tif']"
      ]
     },
     "execution_count": 8,
     "metadata": {},
     "output_type": "execute_result"
    }
   ],
   "source": [
    "# 画像ファイルの取得\n",
    "file_path = './dem_data/' #ダウロードしたdemファイルの保存先を指定。\n",
    "files =os.listdir(file_path)\n",
    "files.sort()\n",
    "files"
   ]
  },
  {
   "cell_type": "code",
   "execution_count": 9,
   "metadata": {
    "id": "nj2zHvbe49QC"
   },
   "outputs": [],
   "source": [
    "i=0\n",
    "path_c = glob.glob(file_path + files[i])\n",
    "imgA = path_c[0]　#DEMファイルのアドレスを設定"
   ]
  },
  {
   "cell_type": "code",
   "execution_count": 10,
   "metadata": {
    "colab": {
     "base_uri": "https://localhost:8080/"
    },
    "id": "QremIPtX6ENh",
    "outputId": "016cd032-be9d-46f5-90df-89ec71a1f8a8"
   },
   "outputs": [
    {
     "name": "stderr",
     "output_type": "stream",
     "text": [
      "/home/nigo/anaconda3/envs/GIS/lib/python3.6/site-packages/pyproj/crs/crs.py:53: FutureWarning: '+init=<authority>:<code>' syntax is deprecated. '<authority>:<code>' is the preferred initialization method. When making the change, be mindful of axis order changes: https://pyproj4.github.io/pyproj/stable/gotchas.html#axis-order-changes-in-proj-6\n",
      "  return _prepare_from_string(\" \".join(pjargs))\n"
     ]
    }
   ],
   "source": [
    "nReserve_geo = gpd.read_file(str(object_name) +'_2.geojson')\n",
    "epsg = 'epsg:4326'\n",
    "nReserve_proj = nReserve_geo.to_crs({'init': epsg})"
   ]
  },
  {
   "cell_type": "markdown",
   "metadata": {
    "id": "OAAABvIzk7wp"
   },
   "source": [
    "関心域（AREA)をDEM画像から切り出します。"
   ]
  },
  {
   "cell_type": "code",
   "execution_count": 11,
   "metadata": {
    "id": "c-RDpvg26IpK"
   },
   "outputs": [],
   "source": [
    " with rasterio.open(imgA) as src:\n",
    "    out_image, out_transform = rasterio.mask.mask(src, nReserve_proj.geometry,crop=True)\n",
    "    out_meta = src.meta.copy()\n",
    "    out_meta.update({\"driver\": \"GTiff\",\n",
    "                    \"height\": out_image.shape[1],\n",
    "                    \"width\": out_image.shape[2],\n",
    "                    \"transform\": out_transform})"
   ]
  },
  {
   "cell_type": "code",
   "execution_count": 12,
   "metadata": {
    "id": "nZdBDqH26L3b"
   },
   "outputs": [],
   "source": [
    "with rasterio.open('./' +str(object_name) +'_dem.tif', \"w\", **out_meta) as dest:\n",
    "        dest.write(out_image)"
   ]
  },
  {
   "cell_type": "markdown",
   "metadata": {},
   "source": [
    "切り出したDEM画像（今回は、北海道西部）を確認します。"
   ]
  },
  {
   "cell_type": "code",
   "execution_count": 13,
   "metadata": {
    "colab": {
     "base_uri": "https://localhost:8080/",
     "height": 286
    },
    "id": "Z0QUbmpP6nMm",
    "outputId": "3f970fe1-0558-4e14-8fb6-155ae5feb01f"
   },
   "outputs": [
    {
     "data": {
      "text/plain": [
       "<matplotlib.image.AxesImage at 0x7feb422ebf98>"
      ]
     },
     "execution_count": 13,
     "metadata": {},
     "output_type": "execute_result"
    },
    {
     "data": {
      "image/png": "[encoded data removed]",
      "text/plain": [
       "<Figure size 432x288 with 1 Axes>"
      ]
     },
     "metadata": {
      "needs_background": "light"
     },
     "output_type": "display_data"
    }
   ],
   "source": [
    "with rasterio.open('./' +str(object_name) +'_dem.tif') as src:\n",
    "      arr = src.read()\n",
    "\n",
    "plt.imshow(arr[0], cmap='gray')"
   ]
  },
  {
   "cell_type": "code",
   "execution_count": 14,
   "metadata": {
    "colab": {
     "base_uri": "https://localhost:8080/",
     "height": 286
    },
    "id": "PznFiuzm6nLA",
    "outputId": "0b3919d4-1c79-498f-ef53-c7e7429a6b75"
   },
   "outputs": [
    {
     "data": {
      "text/plain": [
       "<matplotlib.image.AxesImage at 0x7feb3a1c3cf8>"
      ]
     },
     "execution_count": 14,
     "metadata": {},
     "output_type": "execute_result"
    },
    {
     "data": {
      "image/png": "[encoded data removed]",
      "text/plain": [
       "<Figure size 432x288 with 1 Axes>"
      ]
     },
     "metadata": {
      "needs_background": "light"
     },
     "output_type": "display_data"
    }
   ],
   "source": [
    "img_test = arr[0].copy()\n",
    "img_test =np.where(img_test== -32768, 0, img_test)\n",
    "plt.imshow(img_test, cmap='gray')"
   ]
  },
  {
   "cell_type": "code",
   "execution_count": 15,
   "metadata": {
    "id": "Ftbu_Kov6nFG"
   },
   "outputs": [],
   "source": [
    "img = arr[0]\n",
    "h, w = img.shape"
   ]
  },
  {
   "cell_type": "code",
   "execution_count": 16,
   "metadata": {
    "colab": {
     "base_uri": "https://localhost:8080/"
    },
    "id": "Tg3JXdr8jkcs",
    "outputId": "4df10dfd-e305-46ec-cb9a-33cf4f91023a"
   },
   "outputs": [
    {
     "name": "stdout",
     "output_type": "stream",
     "text": [
      "2637\n",
      "2730\n"
     ]
    }
   ],
   "source": [
    "#切り出したDEM画像のサイズを確認\n",
    "print(h)\n",
    "print(w)"
   ]
  },
  {
   "cell_type": "code",
   "execution_count": 17,
   "metadata": {
    "id": "AJiUJ5TWjpIj"
   },
   "outputs": [],
   "source": [
    "#画像サイズを小さくすることで計算時間の短縮を試みる。\n",
    "\n",
    "t = 1 #　ｔ分の1サイズにする。90m分解能を270m分解能にするのであれば、tを3とする。\n",
    "img_resize = cv2.resize(img, (int(w / t), int(h / t)), interpolation=cv2.INTER_CUBIC)"
   ]
  },
  {
   "cell_type": "code",
   "execution_count": 18,
   "metadata": {
    "colab": {
     "base_uri": "https://localhost:8080/"
    },
    "id": "RxL3Phy9jo-f",
    "outputId": "ffb7dcfc-d0b8-4680-ed06-f238c706c250"
   },
   "outputs": [
    {
     "data": {
      "text/plain": [
       "(2637, 2730)"
      ]
     },
     "execution_count": 18,
     "metadata": {},
     "output_type": "execute_result"
    }
   ],
   "source": [
    "img_resize.shape"
   ]
  },
  {
   "cell_type": "code",
   "execution_count": 19,
   "metadata": {
    "colab": {
     "base_uri": "https://localhost:8080/"
    },
    "id": "stiYqvCllY5i",
    "outputId": "11f14346-0739-4882-c967-d32188d83fd9"
   },
   "outputs": [
    {
     "name": "stdout",
     "output_type": "stream",
     "text": [
      "2637\n",
      "2730\n"
     ]
    }
   ],
   "source": [
    "#画像のResize後のサイズを確認\n",
    "h, w = img_resize.shape\n",
    "print(h)\n",
    "print(w)"
   ]
  },
  {
   "cell_type": "markdown",
   "metadata": {
    "id": "hAUWYv1rG4CQ"
   },
   "source": [
    "ダウンロードしたSRTM画像の解像度などの情報は以下をご参考ください。\n",
    "\n",
    "SRTM 5deg = 90m resolution\n",
    "\n",
    "https://cgiarcsi.community/data/srtm-90m-digital-elevation-database-v4-1/#:~:text=Digital%20elevation%20models%20(DEM)%20for,for%20easy%20download%20and%20use."
   ]
  },
  {
   "cell_type": "code",
   "execution_count": 20,
   "metadata": {},
   "outputs": [],
   "source": [
    "#切り出した画像データをGPUで処理するための、cupy形式に変換します。\n",
    "img_resize_cp = cp.asarray(img_resize)"
   ]
  },
  {
   "cell_type": "markdown",
   "metadata": {},
   "source": [
    "半径7000m以内の標高値を得るために、7000mに相当するピクセル数を求めます。"
   ]
  },
  {
   "cell_type": "code",
   "execution_count": 21,
   "metadata": {
    "id": "G5d83IZQ6m8z"
   },
   "outputs": [],
   "source": [
    "n = 90 #90m resolution\n",
    "radius = int(7000/n/t) #画像サイズがt分の１になったので、radiusのピクセル数も変更する。"
   ]
  },
  {
   "cell_type": "markdown",
   "metadata": {},
   "source": [
    "### 局所起伏幅の算出\n",
    "計算方法は以下となります。\n",
    "\n",
    "・半径7000mのマスク画像を作成。\n",
    "・任意位置（ピクセル）のDEMデータより、上記で作成したマスク画像で切り出す（Crip)。\n",
    "・任意位置と標高値と切り出したDEM画像内の最大標高差（プラス、マイナス）を求める。\n",
    "・求めた最大標高差が300mより大きければ１を出力、３００m以下であれば０を出力する。\n",
    "・この計算は、DEMデータのすべての位置（ピクセル）で行う。例えば、DEMデータの画素数が10000x1000であれば、1000000回の計算となる。"
   ]
  },
  {
   "cell_type": "code",
   "execution_count": 22,
   "metadata": {
    "colab": {
     "base_uri": "https://localhost:8080/"
    },
    "id": "o5z-Pajb69ut",
    "outputId": "8bd8dca6-2480-4487-d631-706eeb761cc0"
   },
   "outputs": [
    {
     "name": "stderr",
     "output_type": "stream",
     "text": [
      "100%|██████████| 2637/2637 [22:33:02<00:00, 30.79s/it]   \n"
     ]
    }
   ],
   "source": [
    "test_w = []\n",
    "\n",
    "for v in tqdm(range(h)):\n",
    "    for i in range(w):\n",
    "        # マスク作成 (黒く塗りつぶす画素の値は0)\n",
    "        mask = np.zeros((h, w), dtype=np.uint8)\n",
    "         # 円を描画する関数 circle() を利用してマスクの残したい部分を 255 にしている。\n",
    "        cv2.circle(mask, center=(i, v), radius=radius, color=255, thickness=-1)\n",
    "                   \n",
    "        img2 = img_resize_cp.copy() #画像の読み込み\n",
    "        img2 = cp.where(img2== -32768, 0, img2) #海は海抜０mとする。\n",
    "        img2[mask==0] = [0]  # mask の値が 0 の画素は黒で塗りつぶす。\n",
    "        result = img2.max() - img2[v][i] #読み出したピクセル位置から半径7000m以内の最大高度との差分を取得\n",
    "        if img2.max() == 0: #DEMがすべて０となると，nonzeroが０のみのため出力がなくなりエラーとなる．\n",
    "            result2 = 0 \n",
    "        else:\n",
    "            result2 = img2[v][i] - cp.min(img2[cp.nonzero(img2)]) #読み出したピクセル位置より一番低い高度との差分を取得\n",
    "        if result > 300 or result2 > 300:\n",
    "            test = 1\n",
    "        else:\n",
    "            test = 0\n",
    "        test_w.append(test)\n",
    "    "
   ]
  },
  {
   "cell_type": "markdown",
   "metadata": {},
   "source": [
    "計算結果を画像データとして扱うために、cupy形式からnumpy形式に変換する。"
   ]
  },
  {
   "cell_type": "code",
   "execution_count": 23,
   "metadata": {
    "id": "fzj_eZ1V8Qjw"
   },
   "outputs": [],
   "source": [
    "test2A = np.array(test_w)"
   ]
  },
  {
   "cell_type": "code",
   "execution_count": 24,
   "metadata": {
    "id": "7SecZeSd8Qhh"
   },
   "outputs": [],
   "source": [
    "test_dem =test2A.reshape(h, w)"
   ]
  },
  {
   "cell_type": "markdown",
   "metadata": {},
   "source": [
    "出力データのサイズ（画素数）の確認。切り出したDEMデータのサイズと同じであることを確認する。"
   ]
  },
  {
   "cell_type": "code",
   "execution_count": 25,
   "metadata": {
    "colab": {
     "base_uri": "https://localhost:8080/"
    },
    "id": "-EYgQDptoNN1",
    "outputId": "30bca857-cf1a-4651-ca96-db3698e8ada2"
   },
   "outputs": [
    {
     "name": "stdout",
     "output_type": "stream",
     "text": [
      "2637\n",
      "2730\n"
     ]
    }
   ],
   "source": [
    "print(test_dem.shape[0])\n",
    "print(test_dem.shape[1])"
   ]
  },
  {
   "cell_type": "markdown",
   "metadata": {},
   "source": [
    "出力データを画像で確認。"
   ]
  },
  {
   "cell_type": "code",
   "execution_count": 26,
   "metadata": {
    "colab": {
     "base_uri": "https://localhost:8080/",
     "height": 286
    },
    "id": "RmzEGkF38QfY",
    "outputId": "2a64fd3a-0177-4d43-dfa7-d160655c94ff"
   },
   "outputs": [
    {
     "data": {
      "text/plain": [
       "<matplotlib.image.AxesImage at 0x7feb39f54898>"
      ]
     },
     "execution_count": 26,
     "metadata": {},
     "output_type": "execute_result"
    },
    {
     "data": {
      "image/png": "[encoded data removed]",
      "text/plain": [
       "<Figure size 432x288 with 1 Axes>"
      ]
     },
     "metadata": {
      "needs_background": "light"
     },
     "output_type": "display_data"
    }
   ],
   "source": [
    "plt.imshow(test_dem, cmap='gray')"
   ]
  },
  {
   "cell_type": "code",
   "execution_count": 27,
   "metadata": {
    "id": "rgp_EmmMnFEv"
   },
   "outputs": [],
   "source": [
    "#切り出したdem画像の保存\n",
    "\n",
    "with rasterio.open('./results/' +str(object_name) +'_dem.tif', \"w\", **out_meta) as dest:\n",
    "        dest.write(out_image)"
   ]
  },
  {
   "cell_type": "markdown",
   "metadata": {},
   "source": [
    "出力データをGeotiffに出力するために、切り出したDEMデータの位置情報を取得する。"
   ]
  },
  {
   "cell_type": "code",
   "execution_count": 28,
   "metadata": {
    "colab": {
     "base_uri": "https://localhost:8080/"
    },
    "id": "KYmULZJo6QU4",
    "outputId": "bad087b9-550d-4b9a-c8fa-93f4f3753b86"
   },
   "outputs": [
    {
     "name": "stdout",
     "output_type": "stream",
     "text": [
      "2730\n",
      "2637\n",
      "(139.30166666666668, 0.0008333333333333334, 0.0, 43.54083333333333, 0.0, -0.0008333333333333334)\n",
      "GEOGCS[\"WGS 84\",DATUM[\"WGS_1984\",SPHEROID[\"WGS 84\",6378137,298.257223563,AUTHORITY[\"EPSG\",\"7030\"]],AUTHORITY[\"EPSG\",\"6326\"]],PRIMEM[\"Greenwich\",0],UNIT[\"degree\",0.0174532925199433],AUTHORITY[\"EPSG\",\"4326\"]]\n"
     ]
    }
   ],
   "source": [
    "#空間参照系の読み込み\n",
    "\n",
    "src = gdal.Open('./' +str(object_name) +'_dem.tif', gdalconst.GA_ReadOnly) # tifの読み込み (read only)\n",
    "type(src) # \"osgeo.gdal.Dataset\"\n",
    "\n",
    "print(src.RasterXSize) # 水平方向ピクセル数\n",
    "print(src.RasterYSize) # 鉛直方向ピクセル数\n",
    "\n",
    "print(src.GetGeoTransform()) # 座標に関する６つの数字 (下記参照)\n",
    "print(src.GetProjection()) # 座標系情報\n",
    "\n",
    "geotransform = src.GetGeoTransform()"
   ]
  },
  {
   "cell_type": "markdown",
   "metadata": {},
   "source": [
    "出力データに位置情報を付与してGeotiffフォーマットで出力する。"
   ]
  },
  {
   "cell_type": "code",
   "execution_count": 29,
   "metadata": {
    "id": "JQ45wIOW8eSK"
   },
   "outputs": [],
   "source": [
    "#Geotiffで出力。\n",
    "from osgeo import osr # 空間参照モジュール\n",
    "\n",
    "dtype = gdal.GDT_Float32 #others: gdal.GDT_Byte, ...GDT_Float32\n",
    "band = 1 # バンド数\n",
    "\n",
    "xsize = test_dem.shape[0]\n",
    "ysize = test_dem.shape[1]\n",
    "\n",
    "output = gdal.GetDriverByName('GTiff').Create('./results/' + str(object_name) + '_local_elevation_range_300m.tif', ysize, xsize, band, dtype) # 作成したファイルの保存先を指定。MyDrive以下が、Google Driveの指定ディレクトリ\n",
    "\n",
    "output.SetGeoTransform((geotransform[0], geotransform[1]*t, geotransform[2], geotransform[3], geotransform[4], geotransform[5]*t)) # 座標系指定\n",
    "srs = osr.SpatialReference() # 空間参照情報\n",
    "srs.ImportFromEPSG(4326) # WGS84 UTM_48nに座標系を指定\n",
    "output.SetProjection(srs.ExportToWkt()) # 空間情報を結合\n",
    "\n",
    "output.GetRasterBand(1).WriteArray(test_dem)   # test_dem書き出し（b1はnumpy 2次元配列）\n",
    "output.FlushCache()                     # ディスクに書き出し\n",
    "output = None  "
   ]
  }
 ],
 "metadata": {
  "colab": {
   "collapsed_sections": [],
   "name": "local_elevation_calcB.ipynb",
   "provenance": []
  },
  "kernelspec": {
   "display_name": "Python 3",
   "language": "python",
   "name": "python3"
  },
  "language_info": {
   "codemirror_mode": {
    "name": "ipython",
    "version": 3
   },
   "file_extension": ".py",
   "mimetype": "text/x-python",
   "name": "python",
   "nbconvert_exporter": "python",
   "pygments_lexer": "ipython3",
   "version": "3.6.11"
  }
 },
 "nbformat": 4,
 "nbformat_minor": 4
}
